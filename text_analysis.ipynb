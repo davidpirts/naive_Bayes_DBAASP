{
 "cells": [
  {
   "cell_type": "markdown",
   "metadata": {},
   "source": [
    "# Sequence methods for protein classification"
   ]
  },
  {
   "cell_type": "code",
   "execution_count": 44,
   "metadata": {},
   "outputs": [],
   "source": [
    "import pandas as pd\n",
    "import numpy as np\n",
    "from matplotlib import pyplot as plt\n",
    "import seaborn as sns\n",
    "\n",
    "sns.set()\n",
    "\n",
    "fig_size = plt.rcParams[\"figure.figsize\"]\n",
    "fig_size[0] = 8\n",
    "fig_size[1] = 6\n",
    "plt.rcParams[\"figure.figsize\"] = fig_size"
   ]
  },
  {
   "cell_type": "markdown",
   "metadata": {},
   "source": [
    "## Loading and preprocessing the data"
   ]
  },
  {
   "cell_type": "code",
   "execution_count": 2,
   "metadata": {},
   "outputs": [
    {
     "data": {
      "text/plain": [
       "['Export Summary', 'Sheet1', 'Sheet2', 'Sheet3']"
      ]
     },
     "execution_count": 2,
     "metadata": {},
     "output_type": "execute_result"
    }
   ],
   "source": [
    "data_path = 'data/S.aureus.xlsx'\n",
    "data = pd.ExcelFile(data_path)\n",
    "data.sheet_names"
   ]
  },
  {
   "cell_type": "code",
   "execution_count": 3,
   "metadata": {},
   "outputs": [],
   "source": [
    "df1 = data.parse('Sheet1', header=None)\n",
    "df2 = data.parse('Sheet2', header=None)"
   ]
  },
  {
   "cell_type": "code",
   "execution_count": 4,
   "metadata": {},
   "outputs": [
    {
     "name": "stdout",
     "output_type": "stream",
     "text": [
      "(324, 6) (164, 6)\n"
     ]
    }
   ],
   "source": [
    "print(df1.shape, df2.shape)"
   ]
  },
  {
   "cell_type": "code",
   "execution_count": 5,
   "metadata": {},
   "outputs": [
    {
     "name": "stdout",
     "output_type": "stream",
     "text": [
      "<class 'pandas.core.frame.DataFrame'>\n",
      "RangeIndex: 488 entries, 0 to 487\n",
      "Data columns (total 6 columns):\n",
      " #   Column  Non-Null Count  Dtype  \n",
      "---  ------  --------------  -----  \n",
      " 0   0       488 non-null    int64  \n",
      " 1   1       0 non-null      float64\n",
      " 2   2       488 non-null    object \n",
      " 3   3       366 non-null    object \n",
      " 4   4       488 non-null    float64\n",
      " 5   5       488 non-null    int64  \n",
      "dtypes: float64(2), int64(2), object(2)\n",
      "memory usage: 23.0+ KB\n"
     ]
    }
   ],
   "source": [
    "df = pd.concat([df1, df2], ignore_index=True)\n",
    "df = df.sample(frac=1).reset_index(drop=True)\n",
    "df.info()"
   ]
  },
  {
   "cell_type": "code",
   "execution_count": 6,
   "metadata": {},
   "outputs": [
    {
     "data": {
      "text/html": [
       "<div>\n",
       "<style scoped>\n",
       "    .dataframe tbody tr th:only-of-type {\n",
       "        vertical-align: middle;\n",
       "    }\n",
       "\n",
       "    .dataframe tbody tr th {\n",
       "        vertical-align: top;\n",
       "    }\n",
       "\n",
       "    .dataframe thead th {\n",
       "        text-align: right;\n",
       "    }\n",
       "</style>\n",
       "<table border=\"1\" class=\"dataframe\">\n",
       "  <thead>\n",
       "    <tr style=\"text-align: right;\">\n",
       "      <th></th>\n",
       "      <th>0</th>\n",
       "      <th>1</th>\n",
       "      <th>2</th>\n",
       "      <th>3</th>\n",
       "      <th>4</th>\n",
       "      <th>5</th>\n",
       "    </tr>\n",
       "  </thead>\n",
       "  <tbody>\n",
       "    <tr>\n",
       "      <th>0</th>\n",
       "      <td>7666</td>\n",
       "      <td>NaN</td>\n",
       "      <td>WKRLVAASAKKK</td>\n",
       "      <td>AMD</td>\n",
       "      <td>10.00</td>\n",
       "      <td>1</td>\n",
       "    </tr>\n",
       "    <tr>\n",
       "      <th>1</th>\n",
       "      <td>10153</td>\n",
       "      <td>NaN</td>\n",
       "      <td>FKAWRWAWRMKKLAAPS</td>\n",
       "      <td>NaN</td>\n",
       "      <td>8.00</td>\n",
       "      <td>1</td>\n",
       "    </tr>\n",
       "    <tr>\n",
       "      <th>2</th>\n",
       "      <td>14883</td>\n",
       "      <td>NaN</td>\n",
       "      <td>GLFDIIAKIAESF</td>\n",
       "      <td>AMD</td>\n",
       "      <td>512.00</td>\n",
       "      <td>0</td>\n",
       "    </tr>\n",
       "    <tr>\n",
       "      <th>3</th>\n",
       "      <td>13995</td>\n",
       "      <td>NaN</td>\n",
       "      <td>FLGALWHALSHLL</td>\n",
       "      <td>NaN</td>\n",
       "      <td>11.82</td>\n",
       "      <td>1</td>\n",
       "    </tr>\n",
       "    <tr>\n",
       "      <th>4</th>\n",
       "      <td>7083</td>\n",
       "      <td>NaN</td>\n",
       "      <td>RRWKIVVIRWRR</td>\n",
       "      <td>NaN</td>\n",
       "      <td>1.21</td>\n",
       "      <td>1</td>\n",
       "    </tr>\n",
       "  </tbody>\n",
       "</table>\n",
       "</div>"
      ],
      "text/plain": [
       "       0   1                  2    3       4  5\n",
       "0   7666 NaN       WKRLVAASAKKK  AMD   10.00  1\n",
       "1  10153 NaN  FKAWRWAWRMKKLAAPS  NaN    8.00  1\n",
       "2  14883 NaN      GLFDIIAKIAESF  AMD  512.00  0\n",
       "3  13995 NaN      FLGALWHALSHLL  NaN   11.82  1\n",
       "4   7083 NaN       RRWKIVVIRWRR  NaN    1.21  1"
      ]
     },
     "execution_count": 6,
     "metadata": {},
     "output_type": "execute_result"
    }
   ],
   "source": [
    "df.drop_duplicates(inplace=True)\n",
    "df.head()"
   ]
  },
  {
   "cell_type": "code",
   "execution_count": 7,
   "metadata": {},
   "outputs": [],
   "source": [
    "df.drop([0, 1, 4], axis=1, inplace=True)"
   ]
  },
  {
   "cell_type": "code",
   "execution_count": 8,
   "metadata": {},
   "outputs": [
    {
     "data": {
      "text/html": [
       "<div>\n",
       "<style scoped>\n",
       "    .dataframe tbody tr th:only-of-type {\n",
       "        vertical-align: middle;\n",
       "    }\n",
       "\n",
       "    .dataframe tbody tr th {\n",
       "        vertical-align: top;\n",
       "    }\n",
       "\n",
       "    .dataframe thead th {\n",
       "        text-align: right;\n",
       "    }\n",
       "</style>\n",
       "<table border=\"1\" class=\"dataframe\">\n",
       "  <thead>\n",
       "    <tr style=\"text-align: right;\">\n",
       "      <th></th>\n",
       "      <th>2</th>\n",
       "      <th>3</th>\n",
       "      <th>5</th>\n",
       "    </tr>\n",
       "  </thead>\n",
       "  <tbody>\n",
       "    <tr>\n",
       "      <th>0</th>\n",
       "      <td>WKRLVAASAKKK</td>\n",
       "      <td>AMD</td>\n",
       "      <td>1</td>\n",
       "    </tr>\n",
       "    <tr>\n",
       "      <th>1</th>\n",
       "      <td>FKAWRWAWRMKKLAAPS</td>\n",
       "      <td>NaN</td>\n",
       "      <td>1</td>\n",
       "    </tr>\n",
       "    <tr>\n",
       "      <th>2</th>\n",
       "      <td>GLFDIIAKIAESF</td>\n",
       "      <td>AMD</td>\n",
       "      <td>0</td>\n",
       "    </tr>\n",
       "    <tr>\n",
       "      <th>3</th>\n",
       "      <td>FLGALWHALSHLL</td>\n",
       "      <td>NaN</td>\n",
       "      <td>1</td>\n",
       "    </tr>\n",
       "    <tr>\n",
       "      <th>4</th>\n",
       "      <td>RRWKIVVIRWRR</td>\n",
       "      <td>NaN</td>\n",
       "      <td>1</td>\n",
       "    </tr>\n",
       "    <tr>\n",
       "      <th>...</th>\n",
       "      <td>...</td>\n",
       "      <td>...</td>\n",
       "      <td>...</td>\n",
       "    </tr>\n",
       "    <tr>\n",
       "      <th>483</th>\n",
       "      <td>AAGMGFFGAR</td>\n",
       "      <td>AMD</td>\n",
       "      <td>1</td>\n",
       "    </tr>\n",
       "    <tr>\n",
       "      <th>484</th>\n",
       "      <td>FPVTWPTKWWEG</td>\n",
       "      <td>AMD</td>\n",
       "      <td>0</td>\n",
       "    </tr>\n",
       "    <tr>\n",
       "      <th>485</th>\n",
       "      <td>MWITNGGVANWYFVLAR</td>\n",
       "      <td>NaN</td>\n",
       "      <td>1</td>\n",
       "    </tr>\n",
       "    <tr>\n",
       "      <th>486</th>\n",
       "      <td>LLRRVAGLLKQFAK</td>\n",
       "      <td>NaN</td>\n",
       "      <td>1</td>\n",
       "    </tr>\n",
       "    <tr>\n",
       "      <th>487</th>\n",
       "      <td>KKRRWQWRRKK</td>\n",
       "      <td>AMD</td>\n",
       "      <td>0</td>\n",
       "    </tr>\n",
       "  </tbody>\n",
       "</table>\n",
       "<p>488 rows × 3 columns</p>\n",
       "</div>"
      ],
      "text/plain": [
       "                     2    3  5\n",
       "0         WKRLVAASAKKK  AMD  1\n",
       "1    FKAWRWAWRMKKLAAPS  NaN  1\n",
       "2        GLFDIIAKIAESF  AMD  0\n",
       "3        FLGALWHALSHLL  NaN  1\n",
       "4         RRWKIVVIRWRR  NaN  1\n",
       "..                 ...  ... ..\n",
       "483         AAGMGFFGAR  AMD  1\n",
       "484       FPVTWPTKWWEG  AMD  0\n",
       "485  MWITNGGVANWYFVLAR  NaN  1\n",
       "486     LLRRVAGLLKQFAK  NaN  1\n",
       "487        KKRRWQWRRKK  AMD  0\n",
       "\n",
       "[488 rows x 3 columns]"
      ]
     },
     "execution_count": 8,
     "metadata": {},
     "output_type": "execute_result"
    }
   ],
   "source": [
    "df"
   ]
  },
  {
   "cell_type": "code",
   "execution_count": 9,
   "metadata": {},
   "outputs": [],
   "source": [
    "df[2] = ('X' + df[2]).where(df[3]=='AMD', df[2])\n",
    "df.drop(3, axis=1, inplace=True)"
   ]
  },
  {
   "cell_type": "code",
   "execution_count": 10,
   "metadata": {},
   "outputs": [
    {
     "data": {
      "text/html": [
       "<div>\n",
       "<style scoped>\n",
       "    .dataframe tbody tr th:only-of-type {\n",
       "        vertical-align: middle;\n",
       "    }\n",
       "\n",
       "    .dataframe tbody tr th {\n",
       "        vertical-align: top;\n",
       "    }\n",
       "\n",
       "    .dataframe thead th {\n",
       "        text-align: right;\n",
       "    }\n",
       "</style>\n",
       "<table border=\"1\" class=\"dataframe\">\n",
       "  <thead>\n",
       "    <tr style=\"text-align: right;\">\n",
       "      <th></th>\n",
       "      <th>2</th>\n",
       "      <th>5</th>\n",
       "    </tr>\n",
       "  </thead>\n",
       "  <tbody>\n",
       "    <tr>\n",
       "      <th>0</th>\n",
       "      <td>XWKRLVAASAKKK</td>\n",
       "      <td>1</td>\n",
       "    </tr>\n",
       "    <tr>\n",
       "      <th>1</th>\n",
       "      <td>FKAWRWAWRMKKLAAPS</td>\n",
       "      <td>1</td>\n",
       "    </tr>\n",
       "    <tr>\n",
       "      <th>2</th>\n",
       "      <td>XGLFDIIAKIAESF</td>\n",
       "      <td>0</td>\n",
       "    </tr>\n",
       "    <tr>\n",
       "      <th>3</th>\n",
       "      <td>FLGALWHALSHLL</td>\n",
       "      <td>1</td>\n",
       "    </tr>\n",
       "    <tr>\n",
       "      <th>4</th>\n",
       "      <td>RRWKIVVIRWRR</td>\n",
       "      <td>1</td>\n",
       "    </tr>\n",
       "    <tr>\n",
       "      <th>...</th>\n",
       "      <td>...</td>\n",
       "      <td>...</td>\n",
       "    </tr>\n",
       "    <tr>\n",
       "      <th>483</th>\n",
       "      <td>XAAGMGFFGAR</td>\n",
       "      <td>1</td>\n",
       "    </tr>\n",
       "    <tr>\n",
       "      <th>484</th>\n",
       "      <td>XFPVTWPTKWWEG</td>\n",
       "      <td>0</td>\n",
       "    </tr>\n",
       "    <tr>\n",
       "      <th>485</th>\n",
       "      <td>MWITNGGVANWYFVLAR</td>\n",
       "      <td>1</td>\n",
       "    </tr>\n",
       "    <tr>\n",
       "      <th>486</th>\n",
       "      <td>LLRRVAGLLKQFAK</td>\n",
       "      <td>1</td>\n",
       "    </tr>\n",
       "    <tr>\n",
       "      <th>487</th>\n",
       "      <td>XKKRRWQWRRKK</td>\n",
       "      <td>0</td>\n",
       "    </tr>\n",
       "  </tbody>\n",
       "</table>\n",
       "<p>488 rows × 2 columns</p>\n",
       "</div>"
      ],
      "text/plain": [
       "                     2  5\n",
       "0        XWKRLVAASAKKK  1\n",
       "1    FKAWRWAWRMKKLAAPS  1\n",
       "2       XGLFDIIAKIAESF  0\n",
       "3        FLGALWHALSHLL  1\n",
       "4         RRWKIVVIRWRR  1\n",
       "..                 ... ..\n",
       "483        XAAGMGFFGAR  1\n",
       "484      XFPVTWPTKWWEG  0\n",
       "485  MWITNGGVANWYFVLAR  1\n",
       "486     LLRRVAGLLKQFAK  1\n",
       "487       XKKRRWQWRRKK  0\n",
       "\n",
       "[488 rows x 2 columns]"
      ]
     },
     "execution_count": 10,
     "metadata": {},
     "output_type": "execute_result"
    }
   ],
   "source": [
    "df"
   ]
  },
  {
   "cell_type": "markdown",
   "metadata": {},
   "source": [
    "## Analysis"
   ]
  },
  {
   "cell_type": "code",
   "execution_count": null,
   "metadata": {},
   "outputs": [],
   "source": [
    "# we will take each unique character and count how many times it enters a sequence in the positive and negative classes"
   ]
  },
  {
   "cell_type": "code",
   "execution_count": 11,
   "metadata": {},
   "outputs": [],
   "source": [
    "def process_seq(seq):\n",
    "    return [char for char in seq]"
   ]
  },
  {
   "cell_type": "code",
   "execution_count": 12,
   "metadata": {},
   "outputs": [],
   "source": [
    "def build_freqs(seqs, ys):\n",
    "    freqs = {}\n",
    "    for y, seq in zip(ys, seqs):\n",
    "        for char in process_seq(seq):\n",
    "            pair = (char, y)\n",
    "            if pair in freqs:\n",
    "                freqs[pair] += 1\n",
    "            else:\n",
    "                freqs[pair] = 1\n",
    "    return freqs\n",
    "        "
   ]
  },
  {
   "cell_type": "code",
   "execution_count": 13,
   "metadata": {},
   "outputs": [
    {
     "name": "stdout",
     "output_type": "stream",
     "text": [
      "488 488\n"
     ]
    }
   ],
   "source": [
    "seqs = df[2].tolist()\n",
    "ys = df[5].tolist()\n",
    "print(len(seqs), len(ys))"
   ]
  },
  {
   "cell_type": "code",
   "execution_count": 14,
   "metadata": {},
   "outputs": [
    {
     "data": {
      "text/plain": [
       "{('X', 1): 256,\n",
       " ('W', 1): 403,\n",
       " ('K', 1): 638,\n",
       " ('R', 1): 635,\n",
       " ('L', 1): 713,\n",
       " ('V', 1): 239,\n",
       " ('A', 1): 251,\n",
       " ('S', 1): 114,\n",
       " ('F', 1): 278,\n",
       " ('M', 1): 26,\n",
       " ('P', 1): 67,\n",
       " ('X', 0): 109,\n",
       " ('G', 0): 149,\n",
       " ('L', 0): 217,\n",
       " ('F', 0): 154,\n",
       " ('D', 0): 38,\n",
       " ('I', 0): 174,\n",
       " ('A', 0): 128,\n",
       " ('K', 0): 329,\n",
       " ('E', 0): 28,\n",
       " ('S', 0): 95,\n",
       " ('G', 1): 255,\n",
       " ('H', 1): 40,\n",
       " ('I', 1): 341,\n",
       " ('N', 1): 50,\n",
       " ('R', 0): 292,\n",
       " ('T', 0): 41,\n",
       " ('P', 0): 120,\n",
       " ('C', 0): 16,\n",
       " ('W', 0): 108,\n",
       " ('V', 0): 107,\n",
       " ('N', 0): 18,\n",
       " ('M', 0): 19,\n",
       " ('Q', 0): 30,\n",
       " ('Y', 1): 38,\n",
       " ('H', 0): 39,\n",
       " ('Q', 1): 29,\n",
       " ('Y', 0): 40,\n",
       " ('T', 1): 59,\n",
       " ('D', 1): 4,\n",
       " ('C', 1): 5,\n",
       " ('E', 1): 7}"
      ]
     },
     "execution_count": 14,
     "metadata": {},
     "output_type": "execute_result"
    }
   ],
   "source": [
    "freqs = build_freqs(seqs, ys)\n",
    "freqs"
   ]
  },
  {
   "cell_type": "code",
   "execution_count": 15,
   "metadata": {},
   "outputs": [
    {
     "data": {
      "text/plain": [
       "42"
      ]
     },
     "execution_count": 15,
     "metadata": {},
     "output_type": "execute_result"
    }
   ],
   "source": [
    "len(freqs)"
   ]
  },
  {
   "cell_type": "code",
   "execution_count": 146,
   "metadata": {},
   "outputs": [],
   "source": [
    "# we now extract features for each sequence\n",
    "def extract_features(seq, freqs):\n",
    "    \n",
    "    char_list = process_seq(seq)\n",
    "    \n",
    "    # define the feature vector, including unit bias term\n",
    "    x = np.zeros((1, 3))\n",
    "    x[0, 0] = 1\n",
    "    \n",
    "    for char in char_list:\n",
    "        x[0, 1] += freqs.get((char, 1.), 0)\n",
    "        x[0, 2] += freqs.get((char, 0.), 0)\n",
    "    \n",
    "    assert(x.shape == (1,3))\n",
    "    return x"
   ]
  },
  {
   "cell_type": "code",
   "execution_count": 151,
   "metadata": {},
   "outputs": [
    {
     "data": {
      "text/plain": [
       "(488, 3)"
      ]
     },
     "execution_count": 151,
     "metadata": {},
     "output_type": "execute_result"
    }
   ],
   "source": [
    "# construct the full feature matrix\n",
    "X = np.zeros((len(seqs), 3))\n",
    "X.shape"
   ]
  },
  {
   "cell_type": "code",
   "execution_count": 152,
   "metadata": {},
   "outputs": [],
   "source": [
    "for i in range(len(seqs)):\n",
    "    X[i, :] = extract_features(seqs[i], freqs)\n",
    "y = ys"
   ]
  },
  {
   "cell_type": "code",
   "execution_count": 157,
   "metadata": {},
   "outputs": [
    {
     "name": "stdout",
     "output_type": "stream",
     "text": [
      "(488, 3) (488,)\n"
     ]
    }
   ],
   "source": [
    "X = np.asarray(X)\n",
    "y = np.asarray(y)\n",
    "print(X.shape, y.shape)"
   ]
  },
  {
   "cell_type": "code",
   "execution_count": 194,
   "metadata": {},
   "outputs": [],
   "source": [
    "# fitting logistic regression\n",
    "from sklearn.linear_model import LogisticRegression\n",
    "from sklearn.metrics import confusion_matrix\n",
    "from sklearn.model_selection import cross_val_score\n",
    "\n",
    "log_reg = LogisticRegression(C = 10000)"
   ]
  },
  {
   "cell_type": "code",
   "execution_count": 189,
   "metadata": {},
   "outputs": [
    {
     "data": {
      "text/plain": [
       "array([0, 1])"
      ]
     },
     "execution_count": 189,
     "metadata": {},
     "output_type": "execute_result"
    }
   ],
   "source": [
    "log_reg.classes_"
   ]
  },
  {
   "cell_type": "code",
   "execution_count": 197,
   "metadata": {},
   "outputs": [
    {
     "data": {
      "text/plain": [
       "0.7888701872501578"
      ]
     },
     "execution_count": 197,
     "metadata": {},
     "output_type": "execute_result"
    }
   ],
   "source": [
    "cross_val_score(log_reg, X, y, cv=5, scoring=\"accuracy\").mean()"
   ]
  },
  {
   "cell_type": "code",
   "execution_count": 191,
   "metadata": {},
   "outputs": [
    {
     "name": "stdout",
     "output_type": "stream",
     "text": [
      "[[ 85  79]\n",
      " [ 24 300]]\n"
     ]
    }
   ],
   "source": [
    "print(confusion_matrix(y, y_pred))"
   ]
  },
  {
   "cell_type": "markdown",
   "metadata": {},
   "source": [
    "# Naive Bayes"
   ]
  },
  {
   "cell_type": "code",
   "execution_count": 39,
   "metadata": {},
   "outputs": [
    {
     "name": "stdout",
     "output_type": "stream",
     "text": [
      "488 488\n"
     ]
    }
   ],
   "source": [
    "seqs = df[2].tolist()\n",
    "ys = df[5].tolist()\n",
    "print(len(seqs), len(ys))"
   ]
  },
  {
   "cell_type": "code",
   "execution_count": 40,
   "metadata": {},
   "outputs": [],
   "source": [
    "def process_seq(seq):\n",
    "    return [char for char in seq]"
   ]
  },
  {
   "cell_type": "code",
   "execution_count": 41,
   "metadata": {},
   "outputs": [],
   "source": [
    "# function to count occurence of each character in +/- seqs\n",
    "def update_count(result, seqs, ys):\n",
    "    \n",
    "    for y, seq in zip(ys, seqs):\n",
    "        \n",
    "        for char in process_seq(seq):\n",
    "        \n",
    "            pair = (char, y)\n",
    "        \n",
    "            if pair in result:\n",
    "                result[pair] += 1\n",
    "        \n",
    "            else:\n",
    "                result[pair] = 1\n",
    "    \n",
    "    return result"
   ]
  },
  {
   "cell_type": "code",
   "execution_count": 48,
   "metadata": {},
   "outputs": [
    {
     "data": {
      "text/plain": [
       "{('X', 1): 256,\n",
       " ('W', 1): 403,\n",
       " ('K', 1): 638,\n",
       " ('R', 1): 635,\n",
       " ('L', 1): 713,\n",
       " ('V', 1): 239,\n",
       " ('A', 1): 251,\n",
       " ('S', 1): 114,\n",
       " ('F', 1): 278,\n",
       " ('M', 1): 26,\n",
       " ('P', 1): 67,\n",
       " ('X', 0): 109,\n",
       " ('G', 0): 149,\n",
       " ('L', 0): 217,\n",
       " ('F', 0): 154,\n",
       " ('D', 0): 38,\n",
       " ('I', 0): 174,\n",
       " ('A', 0): 128,\n",
       " ('K', 0): 329,\n",
       " ('E', 0): 28,\n",
       " ('S', 0): 95,\n",
       " ('G', 1): 255,\n",
       " ('H', 1): 40,\n",
       " ('I', 1): 341,\n",
       " ('N', 1): 50,\n",
       " ('R', 0): 292,\n",
       " ('T', 0): 41,\n",
       " ('P', 0): 120,\n",
       " ('C', 0): 16,\n",
       " ('W', 0): 108,\n",
       " ('V', 0): 107,\n",
       " ('N', 0): 18,\n",
       " ('M', 0): 19,\n",
       " ('Q', 0): 30,\n",
       " ('Y', 1): 38,\n",
       " ('H', 0): 39,\n",
       " ('Q', 1): 29,\n",
       " ('Y', 0): 40,\n",
       " ('T', 1): 59,\n",
       " ('D', 1): 4,\n",
       " ('C', 1): 5,\n",
       " ('E', 1): 7}"
      ]
     },
     "execution_count": 48,
     "metadata": {},
     "output_type": "execute_result"
    }
   ],
   "source": [
    "freqs = update_count({}, seqs, ys)\n",
    "freqs"
   ]
  },
  {
   "cell_type": "code",
   "execution_count": 53,
   "metadata": {},
   "outputs": [],
   "source": [
    "def train_naive_bayes(freqs, train_x, train_y):\n",
    "    \n",
    "    loglikelihood = {}\n",
    "    logprior = 0\n",
    "    \n",
    "    vocab = set([pair[0] for pair in freqs.keys()])\n",
    "    V = len(vocab)\n",
    "    \n",
    "    N_pos = N_neg = 0\n",
    "    for pair in freqs.keys():\n",
    "        if pair[1] > 0:\n",
    "            N_pos += freqs[pair]\n",
    "        else:\n",
    "            N_neg += freqs[pair]\n",
    "    \n",
    "    D = len(train_y)\n",
    "    D_pos = np.sum(np.array(train_y))\n",
    "    D_neg = D - D_pos\n",
    "    \n",
    "    logprior = np.log(D_pos) - np.log(D_neg)\n",
    "    \n",
    "    for char in vocab:\n",
    "        freq_pos = freqs.get((char, 1.), 0)\n",
    "        freq_neg = freqs.get((char, 0.), 0)\n",
    "        \n",
    "        p_c_pos = (freq_pos + 1) / (N_pos + V)\n",
    "        p_c_neg = (freq_neg + 1) / (N_neg + V)\n",
    "        \n",
    "        loglikelihood[char] = np.log(p_c_pos) - np.log(p_c_neg)\n",
    "    \n",
    "    return logprior, loglikelihood"
   ]
  },
  {
   "cell_type": "code",
   "execution_count": 54,
   "metadata": {},
   "outputs": [],
   "source": [
    "logprior, loglikelihood = train_naive_bayes(freqs, seqs, ys)"
   ]
  },
  {
   "cell_type": "code",
   "execution_count": 55,
   "metadata": {},
   "outputs": [
    {
     "data": {
      "text/plain": [
       "0.6808770879681303"
      ]
     },
     "execution_count": 55,
     "metadata": {},
     "output_type": "execute_result"
    }
   ],
   "source": [
    "logprior"
   ]
  },
  {
   "cell_type": "code",
   "execution_count": 56,
   "metadata": {},
   "outputs": [
    {
     "data": {
      "text/plain": [
       "{'C': -1.7179580439205697,\n",
       " 'G': -0.14196201870910263,\n",
       " 'I': -0.006479405953318196,\n",
       " 'S': -0.49592023219699577,\n",
       " 'N': 0.3108824844654752,\n",
       " 'R': 0.09852178523064548,\n",
       " 'T': -0.3198292251536774,\n",
       " 'Q': -0.7092939919154002,\n",
       " 'D': -2.7306279027879556,\n",
       " 'X': 0.1720915500103941,\n",
       " 'F': -0.08871750419029079,\n",
       " 'M': -0.37639957664207113,\n",
       " 'V': 0.12200352712536189,\n",
       " 'H': -0.6518115565020377,\n",
       " 'P': -1.2527870095130433,\n",
       " 'A': -0.006887485942657978,\n",
       " 'W': 0.6335628266395967,\n",
       " 'E': -1.9643584573990474,\n",
       " 'Y': -0.7265145896670706,\n",
       " 'K': -0.015692369175400733,\n",
       " 'L': 0.5098837304580861}"
      ]
     },
     "execution_count": 56,
     "metadata": {},
     "output_type": "execute_result"
    }
   ],
   "source": [
    "loglikelihood"
   ]
  },
  {
   "cell_type": "code",
   "execution_count": 65,
   "metadata": {},
   "outputs": [],
   "source": [
    "def naive_bayes_predict(seq, logprior, loglikelihood):\n",
    "    \n",
    "    char_list = process_seq(seq)\n",
    "    \n",
    "    p = 0\n",
    "    \n",
    "    p += logprior\n",
    "    \n",
    "    for char in char_list:\n",
    "        if char in loglikelihood:\n",
    "            p += loglikelihood[char]\n",
    "    \n",
    "    return p"
   ]
  },
  {
   "cell_type": "code",
   "execution_count": 66,
   "metadata": {},
   "outputs": [],
   "source": [
    "def test_naive_bayes(test_x, test_y, logprior, loglikelihood):\n",
    "    \n",
    "    accuracy = 0\n",
    "    \n",
    "    y_hats = []\n",
    "    \n",
    "    for seq in test_x:\n",
    "        if naive_bayes_predict(seq, logprior, loglikelihood) > 0:\n",
    "            y_hat_i = 1\n",
    "        else:\n",
    "            y_hat_i = 0\n",
    "        y_hats.append(y_hat_i)\n",
    "        \n",
    "    error = np.mean(np.array(test_y) != np.array(y_hats))\n",
    "    \n",
    "    accuracy = 1 - error\n",
    "    \n",
    "    return accuracy"
   ]
  },
  {
   "cell_type": "code",
   "execution_count": 67,
   "metadata": {},
   "outputs": [
    {
     "data": {
      "text/plain": [
       "0.7602459016393442"
      ]
     },
     "execution_count": 67,
     "metadata": {},
     "output_type": "execute_result"
    }
   ],
   "source": [
    "test_naive_bayes(seqs, ys, logprior, loglikelihood)"
   ]
  },
  {
   "cell_type": "code",
   "execution_count": 74,
   "metadata": {},
   "outputs": [],
   "source": [
    "# break into train and test\n",
    "\n",
    "from sklearn.model_selection import train_test_split\n",
    "\n",
    "X_train, X_test, y_train, y_test = train_test_split(np.array(seqs), np.array(ys), test_size=0.2)"
   ]
  },
  {
   "cell_type": "code",
   "execution_count": 75,
   "metadata": {},
   "outputs": [
    {
     "data": {
      "text/plain": [
       "(0.7163142398414797,\n",
       " {'C': -1.7179580439205697,\n",
       "  'G': -0.14196201870910263,\n",
       "  'I': -0.006479405953318196,\n",
       "  'S': -0.49592023219699577,\n",
       "  'N': 0.3108824844654752,\n",
       "  'R': 0.09852178523064548,\n",
       "  'T': -0.3198292251536774,\n",
       "  'Q': -0.7092939919154002,\n",
       "  'D': -2.7306279027879556,\n",
       "  'X': 0.1720915500103941,\n",
       "  'F': -0.08871750419029079,\n",
       "  'M': -0.37639957664207113,\n",
       "  'V': 0.12200352712536189,\n",
       "  'H': -0.6518115565020377,\n",
       "  'P': -1.2527870095130433,\n",
       "  'A': -0.006887485942657978,\n",
       "  'W': 0.6335628266395967,\n",
       "  'E': -1.9643584573990474,\n",
       "  'Y': -0.7265145896670706,\n",
       "  'K': -0.015692369175400733,\n",
       "  'L': 0.5098837304580861})"
      ]
     },
     "execution_count": 75,
     "metadata": {},
     "output_type": "execute_result"
    }
   ],
   "source": [
    "logprior, loglikelihood = train_naive_bayes(freqs, X_train, y_train)\n",
    "logprior, loglikelihood"
   ]
  },
  {
   "cell_type": "code",
   "execution_count": 76,
   "metadata": {},
   "outputs": [
    {
     "data": {
      "text/plain": [
       "0.7653061224489796"
      ]
     },
     "execution_count": 76,
     "metadata": {},
     "output_type": "execute_result"
    }
   ],
   "source": [
    "test_naive_bayes(X_test, y_test, logprior, loglikelihood)"
   ]
  },
  {
   "cell_type": "markdown",
   "metadata": {},
   "source": [
    "## A bigger dataset with logistic regression"
   ]
  },
  {
   "cell_type": "code",
   "execution_count": 79,
   "metadata": {},
   "outputs": [],
   "source": [
    "import pandas as pd"
   ]
  },
  {
   "cell_type": "code",
   "execution_count": 80,
   "metadata": {},
   "outputs": [],
   "source": [
    "df = pd.read_csv('data/bigger_data.csv')"
   ]
  },
  {
   "cell_type": "code",
   "execution_count": 81,
   "metadata": {},
   "outputs": [
    {
     "data": {
      "text/html": [
       "<div>\n",
       "<style scoped>\n",
       "    .dataframe tbody tr th:only-of-type {\n",
       "        vertical-align: middle;\n",
       "    }\n",
       "\n",
       "    .dataframe tbody tr th {\n",
       "        vertical-align: top;\n",
       "    }\n",
       "\n",
       "    .dataframe thead th {\n",
       "        text-align: right;\n",
       "    }\n",
       "</style>\n",
       "<table border=\"1\" class=\"dataframe\">\n",
       "  <thead>\n",
       "    <tr style=\"text-align: right;\">\n",
       "      <th></th>\n",
       "      <th>ID</th>\n",
       "      <th>SEQUENCE</th>\n",
       "      <th>C TERMINUS</th>\n",
       "      <th>ACTIVITY</th>\n",
       "      <th>Unnamed: 4</th>\n",
       "    </tr>\n",
       "  </thead>\n",
       "  <tbody>\n",
       "    <tr>\n",
       "      <th>0</th>\n",
       "      <td>11866</td>\n",
       "      <td>GIKKWVKGVAKGVAKDLAKKIL</td>\n",
       "      <td>AMD</td>\n",
       "      <td>0.59</td>\n",
       "      <td>1.0</td>\n",
       "    </tr>\n",
       "    <tr>\n",
       "      <th>1</th>\n",
       "      <td>10928</td>\n",
       "      <td>GKPRPYPPRPPPHPRPIRV</td>\n",
       "      <td>NaN</td>\n",
       "      <td>0.66</td>\n",
       "      <td>1.0</td>\n",
       "    </tr>\n",
       "    <tr>\n",
       "      <th>2</th>\n",
       "      <td>14031</td>\n",
       "      <td>WLKAAAKAAAKLW</td>\n",
       "      <td>AMD</td>\n",
       "      <td>0.71</td>\n",
       "      <td>1.0</td>\n",
       "    </tr>\n",
       "    <tr>\n",
       "      <th>3</th>\n",
       "      <td>6841</td>\n",
       "      <td>RRLFRRILRWL</td>\n",
       "      <td>AMD</td>\n",
       "      <td>0.79</td>\n",
       "      <td>1.0</td>\n",
       "    </tr>\n",
       "    <tr>\n",
       "      <th>4</th>\n",
       "      <td>12612</td>\n",
       "      <td>KKWRKWLKWLAKK</td>\n",
       "      <td>NaN</td>\n",
       "      <td>0.80</td>\n",
       "      <td>1.0</td>\n",
       "    </tr>\n",
       "  </tbody>\n",
       "</table>\n",
       "</div>"
      ],
      "text/plain": [
       "      ID                SEQUENCE C TERMINUS  ACTIVITY  Unnamed: 4\n",
       "0  11866  GIKKWVKGVAKGVAKDLAKKIL        AMD      0.59         1.0\n",
       "1  10928     GKPRPYPPRPPPHPRPIRV        NaN      0.66         1.0\n",
       "2  14031           WLKAAAKAAAKLW        AMD      0.71         1.0\n",
       "3   6841             RRLFRRILRWL        AMD      0.79         1.0\n",
       "4  12612           KKWRKWLKWLAKK        NaN      0.80         1.0"
      ]
     },
     "execution_count": 81,
     "metadata": {},
     "output_type": "execute_result"
    }
   ],
   "source": [
    "df.head()"
   ]
  },
  {
   "cell_type": "code",
   "execution_count": 82,
   "metadata": {},
   "outputs": [
    {
     "data": {
      "text/html": [
       "<div>\n",
       "<style scoped>\n",
       "    .dataframe tbody tr th:only-of-type {\n",
       "        vertical-align: middle;\n",
       "    }\n",
       "\n",
       "    .dataframe tbody tr th {\n",
       "        vertical-align: top;\n",
       "    }\n",
       "\n",
       "    .dataframe thead th {\n",
       "        text-align: right;\n",
       "    }\n",
       "</style>\n",
       "<table border=\"1\" class=\"dataframe\">\n",
       "  <thead>\n",
       "    <tr style=\"text-align: right;\">\n",
       "      <th></th>\n",
       "      <th>ID</th>\n",
       "      <th>seq</th>\n",
       "      <th>c_term</th>\n",
       "      <th>activity</th>\n",
       "      <th>label</th>\n",
       "    </tr>\n",
       "  </thead>\n",
       "  <tbody>\n",
       "    <tr>\n",
       "      <th>0</th>\n",
       "      <td>11866</td>\n",
       "      <td>GIKKWVKGVAKGVAKDLAKKIL</td>\n",
       "      <td>AMD</td>\n",
       "      <td>0.59</td>\n",
       "      <td>1.0</td>\n",
       "    </tr>\n",
       "    <tr>\n",
       "      <th>1</th>\n",
       "      <td>10928</td>\n",
       "      <td>GKPRPYPPRPPPHPRPIRV</td>\n",
       "      <td>NaN</td>\n",
       "      <td>0.66</td>\n",
       "      <td>1.0</td>\n",
       "    </tr>\n",
       "    <tr>\n",
       "      <th>2</th>\n",
       "      <td>14031</td>\n",
       "      <td>WLKAAAKAAAKLW</td>\n",
       "      <td>AMD</td>\n",
       "      <td>0.71</td>\n",
       "      <td>1.0</td>\n",
       "    </tr>\n",
       "    <tr>\n",
       "      <th>3</th>\n",
       "      <td>6841</td>\n",
       "      <td>RRLFRRILRWL</td>\n",
       "      <td>AMD</td>\n",
       "      <td>0.79</td>\n",
       "      <td>1.0</td>\n",
       "    </tr>\n",
       "    <tr>\n",
       "      <th>4</th>\n",
       "      <td>12612</td>\n",
       "      <td>KKWRKWLKWLAKK</td>\n",
       "      <td>NaN</td>\n",
       "      <td>0.80</td>\n",
       "      <td>1.0</td>\n",
       "    </tr>\n",
       "  </tbody>\n",
       "</table>\n",
       "</div>"
      ],
      "text/plain": [
       "      ID                     seq c_term  activity  label\n",
       "0  11866  GIKKWVKGVAKGVAKDLAKKIL    AMD      0.59    1.0\n",
       "1  10928     GKPRPYPPRPPPHPRPIRV    NaN      0.66    1.0\n",
       "2  14031           WLKAAAKAAAKLW    AMD      0.71    1.0\n",
       "3   6841             RRLFRRILRWL    AMD      0.79    1.0\n",
       "4  12612           KKWRKWLKWLAKK    NaN      0.80    1.0"
      ]
     },
     "execution_count": 82,
     "metadata": {},
     "output_type": "execute_result"
    }
   ],
   "source": [
    "df.columns = ['ID', 'seq', 'c_term', 'activity', 'label']\n",
    "df.head()"
   ]
  },
  {
   "cell_type": "code",
   "execution_count": 83,
   "metadata": {},
   "outputs": [],
   "source": [
    "df.drop(['ID', 'activity'], axis=1, inplace=True)"
   ]
  },
  {
   "cell_type": "code",
   "execution_count": 84,
   "metadata": {},
   "outputs": [
    {
     "data": {
      "text/plain": [
       "seq        object\n",
       "c_term     object\n",
       "label     float64\n",
       "dtype: object"
      ]
     },
     "execution_count": 84,
     "metadata": {},
     "output_type": "execute_result"
    }
   ],
   "source": [
    "df.dtypes"
   ]
  },
  {
   "cell_type": "code",
   "execution_count": 85,
   "metadata": {},
   "outputs": [
    {
     "data": {
      "text/html": [
       "<div>\n",
       "<style scoped>\n",
       "    .dataframe tbody tr th:only-of-type {\n",
       "        vertical-align: middle;\n",
       "    }\n",
       "\n",
       "    .dataframe tbody tr th {\n",
       "        vertical-align: top;\n",
       "    }\n",
       "\n",
       "    .dataframe thead th {\n",
       "        text-align: right;\n",
       "    }\n",
       "</style>\n",
       "<table border=\"1\" class=\"dataframe\">\n",
       "  <thead>\n",
       "    <tr style=\"text-align: right;\">\n",
       "      <th></th>\n",
       "      <th>seq</th>\n",
       "      <th>c_term</th>\n",
       "      <th>label</th>\n",
       "    </tr>\n",
       "  </thead>\n",
       "  <tbody>\n",
       "    <tr>\n",
       "      <th>0</th>\n",
       "      <td>GIKKWVKGVAKGVAKDLAKKIL</td>\n",
       "      <td>AMD</td>\n",
       "      <td>1.0</td>\n",
       "    </tr>\n",
       "    <tr>\n",
       "      <th>1</th>\n",
       "      <td>GKPRPYPPRPPPHPRPIRV</td>\n",
       "      <td>NaN</td>\n",
       "      <td>1.0</td>\n",
       "    </tr>\n",
       "    <tr>\n",
       "      <th>2</th>\n",
       "      <td>WLKAAAKAAAKLW</td>\n",
       "      <td>AMD</td>\n",
       "      <td>1.0</td>\n",
       "    </tr>\n",
       "    <tr>\n",
       "      <th>3</th>\n",
       "      <td>RRLFRRILRWL</td>\n",
       "      <td>AMD</td>\n",
       "      <td>1.0</td>\n",
       "    </tr>\n",
       "    <tr>\n",
       "      <th>4</th>\n",
       "      <td>KKWRKWLKWLAKK</td>\n",
       "      <td>NaN</td>\n",
       "      <td>1.0</td>\n",
       "    </tr>\n",
       "  </tbody>\n",
       "</table>\n",
       "</div>"
      ],
      "text/plain": [
       "                      seq c_term  label\n",
       "0  GIKKWVKGVAKGVAKDLAKKIL    AMD    1.0\n",
       "1     GKPRPYPPRPPPHPRPIRV    NaN    1.0\n",
       "2           WLKAAAKAAAKLW    AMD    1.0\n",
       "3             RRLFRRILRWL    AMD    1.0\n",
       "4           KKWRKWLKWLAKK    NaN    1.0"
      ]
     },
     "execution_count": 85,
     "metadata": {},
     "output_type": "execute_result"
    }
   ],
   "source": [
    "df.head()"
   ]
  },
  {
   "cell_type": "code",
   "execution_count": 86,
   "metadata": {},
   "outputs": [],
   "source": [
    "df['seq'] = ('X' + df['seq']).where(df['c_term']=='AMD', df['seq'])"
   ]
  },
  {
   "cell_type": "code",
   "execution_count": 87,
   "metadata": {},
   "outputs": [
    {
     "data": {
      "text/html": [
       "<div>\n",
       "<style scoped>\n",
       "    .dataframe tbody tr th:only-of-type {\n",
       "        vertical-align: middle;\n",
       "    }\n",
       "\n",
       "    .dataframe tbody tr th {\n",
       "        vertical-align: top;\n",
       "    }\n",
       "\n",
       "    .dataframe thead th {\n",
       "        text-align: right;\n",
       "    }\n",
       "</style>\n",
       "<table border=\"1\" class=\"dataframe\">\n",
       "  <thead>\n",
       "    <tr style=\"text-align: right;\">\n",
       "      <th></th>\n",
       "      <th>seq</th>\n",
       "      <th>c_term</th>\n",
       "      <th>label</th>\n",
       "    </tr>\n",
       "  </thead>\n",
       "  <tbody>\n",
       "    <tr>\n",
       "      <th>0</th>\n",
       "      <td>XGIKKWVKGVAKGVAKDLAKKIL</td>\n",
       "      <td>AMD</td>\n",
       "      <td>1.0</td>\n",
       "    </tr>\n",
       "    <tr>\n",
       "      <th>1</th>\n",
       "      <td>GKPRPYPPRPPPHPRPIRV</td>\n",
       "      <td>NaN</td>\n",
       "      <td>1.0</td>\n",
       "    </tr>\n",
       "    <tr>\n",
       "      <th>2</th>\n",
       "      <td>XWLKAAAKAAAKLW</td>\n",
       "      <td>AMD</td>\n",
       "      <td>1.0</td>\n",
       "    </tr>\n",
       "    <tr>\n",
       "      <th>3</th>\n",
       "      <td>XRRLFRRILRWL</td>\n",
       "      <td>AMD</td>\n",
       "      <td>1.0</td>\n",
       "    </tr>\n",
       "    <tr>\n",
       "      <th>4</th>\n",
       "      <td>KKWRKWLKWLAKK</td>\n",
       "      <td>NaN</td>\n",
       "      <td>1.0</td>\n",
       "    </tr>\n",
       "  </tbody>\n",
       "</table>\n",
       "</div>"
      ],
      "text/plain": [
       "                       seq c_term  label\n",
       "0  XGIKKWVKGVAKGVAKDLAKKIL    AMD    1.0\n",
       "1      GKPRPYPPRPPPHPRPIRV    NaN    1.0\n",
       "2           XWLKAAAKAAAKLW    AMD    1.0\n",
       "3             XRRLFRRILRWL    AMD    1.0\n",
       "4            KKWRKWLKWLAKK    NaN    1.0"
      ]
     },
     "execution_count": 87,
     "metadata": {},
     "output_type": "execute_result"
    }
   ],
   "source": [
    "df.head()"
   ]
  },
  {
   "cell_type": "code",
   "execution_count": 88,
   "metadata": {},
   "outputs": [],
   "source": [
    "df.drop(['c_term'], axis=1, inplace=True)"
   ]
  },
  {
   "cell_type": "code",
   "execution_count": 89,
   "metadata": {},
   "outputs": [
    {
     "data": {
      "text/html": [
       "<div>\n",
       "<style scoped>\n",
       "    .dataframe tbody tr th:only-of-type {\n",
       "        vertical-align: middle;\n",
       "    }\n",
       "\n",
       "    .dataframe tbody tr th {\n",
       "        vertical-align: top;\n",
       "    }\n",
       "\n",
       "    .dataframe thead th {\n",
       "        text-align: right;\n",
       "    }\n",
       "</style>\n",
       "<table border=\"1\" class=\"dataframe\">\n",
       "  <thead>\n",
       "    <tr style=\"text-align: right;\">\n",
       "      <th></th>\n",
       "      <th>seq</th>\n",
       "      <th>label</th>\n",
       "    </tr>\n",
       "  </thead>\n",
       "  <tbody>\n",
       "    <tr>\n",
       "      <th>0</th>\n",
       "      <td>XGIKKWVKGVAKGVAKDLAKKIL</td>\n",
       "      <td>1.0</td>\n",
       "    </tr>\n",
       "    <tr>\n",
       "      <th>1</th>\n",
       "      <td>GKPRPYPPRPPPHPRPIRV</td>\n",
       "      <td>1.0</td>\n",
       "    </tr>\n",
       "    <tr>\n",
       "      <th>2</th>\n",
       "      <td>XWLKAAAKAAAKLW</td>\n",
       "      <td>1.0</td>\n",
       "    </tr>\n",
       "    <tr>\n",
       "      <th>3</th>\n",
       "      <td>XRRLFRRILRWL</td>\n",
       "      <td>1.0</td>\n",
       "    </tr>\n",
       "    <tr>\n",
       "      <th>4</th>\n",
       "      <td>KKWRKWLKWLAKK</td>\n",
       "      <td>1.0</td>\n",
       "    </tr>\n",
       "  </tbody>\n",
       "</table>\n",
       "</div>"
      ],
      "text/plain": [
       "                       seq  label\n",
       "0  XGIKKWVKGVAKGVAKDLAKKIL    1.0\n",
       "1      GKPRPYPPRPPPHPRPIRV    1.0\n",
       "2           XWLKAAAKAAAKLW    1.0\n",
       "3             XRRLFRRILRWL    1.0\n",
       "4            KKWRKWLKWLAKK    1.0"
      ]
     },
     "execution_count": 89,
     "metadata": {},
     "output_type": "execute_result"
    }
   ],
   "source": [
    "df.head()"
   ]
  },
  {
   "cell_type": "code",
   "execution_count": 90,
   "metadata": {},
   "outputs": [
    {
     "data": {
      "text/plain": [
       "1147"
      ]
     },
     "execution_count": 90,
     "metadata": {},
     "output_type": "execute_result"
    }
   ],
   "source": [
    "df.dropna(inplace=True)\n",
    "len(df)"
   ]
  },
  {
   "cell_type": "code",
   "execution_count": 91,
   "metadata": {},
   "outputs": [],
   "source": [
    "def process_seq(seq):\n",
    "    return [char for char in seq]"
   ]
  },
  {
   "cell_type": "code",
   "execution_count": 92,
   "metadata": {},
   "outputs": [],
   "source": [
    "def build_freqs(seqs, ys):\n",
    "    freqs = {}\n",
    "    for y, seq in zip(ys, seqs):\n",
    "        for char in process_seq(seq):\n",
    "            pair = (char, y)\n",
    "            if pair in freqs:\n",
    "                freqs[pair] += 1\n",
    "            else:\n",
    "                freqs[pair] = 1\n",
    "    return freqs"
   ]
  },
  {
   "cell_type": "code",
   "execution_count": 93,
   "metadata": {},
   "outputs": [
    {
     "name": "stdout",
     "output_type": "stream",
     "text": [
      "1147 1147\n"
     ]
    }
   ],
   "source": [
    "seqs = df['seq'].tolist()\n",
    "ys = df['label'].tolist()\n",
    "print(len(seqs), len(ys))"
   ]
  },
  {
   "cell_type": "code",
   "execution_count": 94,
   "metadata": {},
   "outputs": [
    {
     "data": {
      "text/plain": [
       "{('X', 1.0): 499,\n",
       " ('G', 1.0): 821,\n",
       " ('I', 1.0): 911,\n",
       " ('K', 1.0): 2002,\n",
       " ('W', 1.0): 775,\n",
       " ('V', 1.0): 686,\n",
       " ('A', 1.0): 818,\n",
       " ('D', 1.0): 78,\n",
       " ('L', 1.0): 1538,\n",
       " ('P', 1.0): 400,\n",
       " ('R', 1.0): 1621,\n",
       " ('Y', 1.0): 133,\n",
       " ('H', 1.0): 223,\n",
       " ('F', 1.0): 723,\n",
       " ('S', 1.0): 240,\n",
       " ('Q', 1.0): 151,\n",
       " ('N', 1.0): 189,\n",
       " ('C', 1.0): 53,\n",
       " ('T', 1.0): 205,\n",
       " ('M', 1.0): 85,\n",
       " ('E', 1.0): 51,\n",
       " ('G', 0.0): 615,\n",
       " ('W', 0.0): 204,\n",
       " ('A', 0.0): 514,\n",
       " ('N', 0.0): 157,\n",
       " ('T', 0.0): 128,\n",
       " ('L', 0.0): 887,\n",
       " ('K', 0.0): 954,\n",
       " ('V', 0.0): 331,\n",
       " ('C', 0.0): 31,\n",
       " ('I', 0.0): 596,\n",
       " ('X', 0.0): 293,\n",
       " ('S', 0.0): 264,\n",
       " ('M', 0.0): 103,\n",
       " ('E', 0.0): 104,\n",
       " ('Y', 0.0): 85,\n",
       " ('Q', 0.0): 98,\n",
       " ('R', 0.0): 542,\n",
       " ('H', 0.0): 161,\n",
       " ('F', 0.0): 355,\n",
       " ('P', 0.0): 329,\n",
       " ('D', 0.0): 142}"
      ]
     },
     "execution_count": 94,
     "metadata": {},
     "output_type": "execute_result"
    }
   ],
   "source": [
    "freqs = build_freqs(seqs, ys)\n",
    "freqs"
   ]
  },
  {
   "cell_type": "code",
   "execution_count": 95,
   "metadata": {},
   "outputs": [
    {
     "data": {
      "text/plain": [
       "42"
      ]
     },
     "execution_count": 95,
     "metadata": {},
     "output_type": "execute_result"
    }
   ],
   "source": [
    "len(freqs)"
   ]
  },
  {
   "cell_type": "code",
   "execution_count": 96,
   "metadata": {},
   "outputs": [],
   "source": [
    "# we now extract features for each sequence\n",
    "def extract_features(seq, freqs):\n",
    "    \n",
    "    char_list = process_seq(seq)\n",
    "    \n",
    "    # define the feature vector, including unit bias term\n",
    "    x = np.zeros((1, 3))\n",
    "    x[0, 0] = 1\n",
    "    \n",
    "    for char in char_list:\n",
    "        x[0, 1] += freqs.get((char, 1.), 0)\n",
    "        x[0, 2] += freqs.get((char, 0.), 0)\n",
    "    \n",
    "    assert(x.shape == (1,3))\n",
    "    return x"
   ]
  },
  {
   "cell_type": "code",
   "execution_count": 97,
   "metadata": {},
   "outputs": [
    {
     "data": {
      "text/plain": [
       "(1147, 3)"
      ]
     },
     "execution_count": 97,
     "metadata": {},
     "output_type": "execute_result"
    }
   ],
   "source": [
    "# construct the full feature matrix\n",
    "X = np.zeros((len(seqs), 3))\n",
    "X.shape"
   ]
  },
  {
   "cell_type": "code",
   "execution_count": 98,
   "metadata": {},
   "outputs": [],
   "source": [
    "for i in range(len(seqs)):\n",
    "    X[i, :] = extract_features(seqs[i], freqs)\n",
    "y = ys"
   ]
  },
  {
   "cell_type": "code",
   "execution_count": 99,
   "metadata": {},
   "outputs": [
    {
     "name": "stdout",
     "output_type": "stream",
     "text": [
      "(1147, 3) (1147,)\n"
     ]
    }
   ],
   "source": [
    "X = np.asarray(X)\n",
    "y = np.asarray(y)\n",
    "print(X.shape, y.shape)"
   ]
  },
  {
   "cell_type": "code",
   "execution_count": 103,
   "metadata": {},
   "outputs": [],
   "source": [
    "# fitting logistic regression\n",
    "from sklearn.linear_model import LogisticRegression\n",
    "from sklearn.metrics import confusion_matrix\n",
    "from sklearn.model_selection import cross_val_score\n",
    "\n",
    "log_reg = LogisticRegression(C = 10000)"
   ]
  },
  {
   "cell_type": "code",
   "execution_count": 101,
   "metadata": {},
   "outputs": [
    {
     "data": {
      "text/plain": [
       "0.7000341750522118"
      ]
     },
     "execution_count": 101,
     "metadata": {},
     "output_type": "execute_result"
    }
   ],
   "source": [
    "cross_val_score(log_reg, X, y, cv=5, scoring=\"accuracy\").mean()"
   ]
  },
  {
   "cell_type": "code",
   "execution_count": 104,
   "metadata": {},
   "outputs": [
    {
     "data": {
      "text/plain": [
       "LogisticRegression(C=10000, class_weight=None, dual=False, fit_intercept=True,\n",
       "                   intercept_scaling=1, l1_ratio=None, max_iter=100,\n",
       "                   multi_class='auto', n_jobs=None, penalty='l2',\n",
       "                   random_state=None, solver='lbfgs', tol=0.0001, verbose=0,\n",
       "                   warm_start=False)"
      ]
     },
     "execution_count": 104,
     "metadata": {},
     "output_type": "execute_result"
    }
   ],
   "source": [
    "log_reg.fit(X, y)"
   ]
  },
  {
   "cell_type": "code",
   "execution_count": 105,
   "metadata": {},
   "outputs": [
    {
     "data": {
      "text/plain": [
       "array([0., 1.])"
      ]
     },
     "execution_count": 105,
     "metadata": {},
     "output_type": "execute_result"
    }
   ],
   "source": [
    "log_reg.classes_"
   ]
  },
  {
   "cell_type": "code",
   "execution_count": 107,
   "metadata": {},
   "outputs": [
    {
     "data": {
      "text/plain": [
       "0.7079337401918047"
      ]
     },
     "execution_count": 107,
     "metadata": {},
     "output_type": "execute_result"
    }
   ],
   "source": [
    "np.mean(log_reg.predict(X) == y)"
   ]
  },
  {
   "cell_type": "markdown",
   "metadata": {},
   "source": [
    "## A bigger dataset with Naive Bayes"
   ]
  },
  {
   "cell_type": "code",
   "execution_count": 122,
   "metadata": {},
   "outputs": [
    {
     "data": {
      "text/html": [
       "<div>\n",
       "<style scoped>\n",
       "    .dataframe tbody tr th:only-of-type {\n",
       "        vertical-align: middle;\n",
       "    }\n",
       "\n",
       "    .dataframe tbody tr th {\n",
       "        vertical-align: top;\n",
       "    }\n",
       "\n",
       "    .dataframe thead th {\n",
       "        text-align: right;\n",
       "    }\n",
       "</style>\n",
       "<table border=\"1\" class=\"dataframe\">\n",
       "  <thead>\n",
       "    <tr style=\"text-align: right;\">\n",
       "      <th></th>\n",
       "      <th>ID</th>\n",
       "      <th>SEQUENCE</th>\n",
       "      <th>C TERMINUS</th>\n",
       "      <th>ACTIVITY</th>\n",
       "      <th>Unnamed: 4</th>\n",
       "    </tr>\n",
       "  </thead>\n",
       "  <tbody>\n",
       "    <tr>\n",
       "      <th>0</th>\n",
       "      <td>11866</td>\n",
       "      <td>GIKKWVKGVAKGVAKDLAKKIL</td>\n",
       "      <td>AMD</td>\n",
       "      <td>0.59</td>\n",
       "      <td>1.0</td>\n",
       "    </tr>\n",
       "    <tr>\n",
       "      <th>1</th>\n",
       "      <td>10928</td>\n",
       "      <td>GKPRPYPPRPPPHPRPIRV</td>\n",
       "      <td>NaN</td>\n",
       "      <td>0.66</td>\n",
       "      <td>1.0</td>\n",
       "    </tr>\n",
       "    <tr>\n",
       "      <th>2</th>\n",
       "      <td>14031</td>\n",
       "      <td>WLKAAAKAAAKLW</td>\n",
       "      <td>AMD</td>\n",
       "      <td>0.71</td>\n",
       "      <td>1.0</td>\n",
       "    </tr>\n",
       "    <tr>\n",
       "      <th>3</th>\n",
       "      <td>6841</td>\n",
       "      <td>RRLFRRILRWL</td>\n",
       "      <td>AMD</td>\n",
       "      <td>0.79</td>\n",
       "      <td>1.0</td>\n",
       "    </tr>\n",
       "    <tr>\n",
       "      <th>4</th>\n",
       "      <td>12612</td>\n",
       "      <td>KKWRKWLKWLAKK</td>\n",
       "      <td>NaN</td>\n",
       "      <td>0.80</td>\n",
       "      <td>1.0</td>\n",
       "    </tr>\n",
       "  </tbody>\n",
       "</table>\n",
       "</div>"
      ],
      "text/plain": [
       "      ID                SEQUENCE C TERMINUS  ACTIVITY  Unnamed: 4\n",
       "0  11866  GIKKWVKGVAKGVAKDLAKKIL        AMD      0.59         1.0\n",
       "1  10928     GKPRPYPPRPPPHPRPIRV        NaN      0.66         1.0\n",
       "2  14031           WLKAAAKAAAKLW        AMD      0.71         1.0\n",
       "3   6841             RRLFRRILRWL        AMD      0.79         1.0\n",
       "4  12612           KKWRKWLKWLAKK        NaN      0.80         1.0"
      ]
     },
     "execution_count": 122,
     "metadata": {},
     "output_type": "execute_result"
    }
   ],
   "source": [
    "import pandas as pd\n",
    "df = pd.read_csv('data/bigger_data.csv')\n",
    "df.head()"
   ]
  },
  {
   "cell_type": "code",
   "execution_count": 123,
   "metadata": {},
   "outputs": [],
   "source": [
    "df.columns = ['ID', 'seq', 'c_term', 'activity', 'label']\n",
    "df.drop(['ID', 'activity'], axis=1, inplace=True)\n",
    "df['seq'] = ('X' + df['seq']).where(df['c_term']=='AMD', df['seq'])\n",
    "df.drop(['c_term'], axis=1, inplace=True)\n",
    "df.dropna(inplace=True)"
   ]
  },
  {
   "cell_type": "code",
   "execution_count": 125,
   "metadata": {},
   "outputs": [
    {
     "data": {
      "text/html": [
       "<div>\n",
       "<style scoped>\n",
       "    .dataframe tbody tr th:only-of-type {\n",
       "        vertical-align: middle;\n",
       "    }\n",
       "\n",
       "    .dataframe tbody tr th {\n",
       "        vertical-align: top;\n",
       "    }\n",
       "\n",
       "    .dataframe thead th {\n",
       "        text-align: right;\n",
       "    }\n",
       "</style>\n",
       "<table border=\"1\" class=\"dataframe\">\n",
       "  <thead>\n",
       "    <tr style=\"text-align: right;\">\n",
       "      <th></th>\n",
       "      <th>seq</th>\n",
       "      <th>label</th>\n",
       "    </tr>\n",
       "  </thead>\n",
       "  <tbody>\n",
       "    <tr>\n",
       "      <th>0</th>\n",
       "      <td>XGIKKWVKGVAKGVAKDLAKKIL</td>\n",
       "      <td>1.0</td>\n",
       "    </tr>\n",
       "    <tr>\n",
       "      <th>1</th>\n",
       "      <td>GKPRPYPPRPPPHPRPIRV</td>\n",
       "      <td>1.0</td>\n",
       "    </tr>\n",
       "    <tr>\n",
       "      <th>2</th>\n",
       "      <td>XWLKAAAKAAAKLW</td>\n",
       "      <td>1.0</td>\n",
       "    </tr>\n",
       "    <tr>\n",
       "      <th>3</th>\n",
       "      <td>XRRLFRRILRWL</td>\n",
       "      <td>1.0</td>\n",
       "    </tr>\n",
       "    <tr>\n",
       "      <th>4</th>\n",
       "      <td>KKWRKWLKWLAKK</td>\n",
       "      <td>1.0</td>\n",
       "    </tr>\n",
       "    <tr>\n",
       "      <th>5</th>\n",
       "      <td>SKFFRKARKKLGKGLQKIKNVLRKY</td>\n",
       "      <td>1.0</td>\n",
       "    </tr>\n",
       "    <tr>\n",
       "      <th>6</th>\n",
       "      <td>GKPRPYSPRPSSHPRPIRV</td>\n",
       "      <td>1.0</td>\n",
       "    </tr>\n",
       "    <tr>\n",
       "      <th>7</th>\n",
       "      <td>XGFKLGRKLVKVFKWII</td>\n",
       "      <td>1.0</td>\n",
       "    </tr>\n",
       "    <tr>\n",
       "      <th>8</th>\n",
       "      <td>KRIVQRIKKFLR</td>\n",
       "      <td>1.0</td>\n",
       "    </tr>\n",
       "    <tr>\n",
       "      <th>9</th>\n",
       "      <td>GSKKPVPIIYCNRRTGKCQRM</td>\n",
       "      <td>1.0</td>\n",
       "    </tr>\n",
       "  </tbody>\n",
       "</table>\n",
       "</div>"
      ],
      "text/plain": [
       "                         seq  label\n",
       "0    XGIKKWVKGVAKGVAKDLAKKIL    1.0\n",
       "1        GKPRPYPPRPPPHPRPIRV    1.0\n",
       "2             XWLKAAAKAAAKLW    1.0\n",
       "3               XRRLFRRILRWL    1.0\n",
       "4              KKWRKWLKWLAKK    1.0\n",
       "5  SKFFRKARKKLGKGLQKIKNVLRKY    1.0\n",
       "6        GKPRPYSPRPSSHPRPIRV    1.0\n",
       "7          XGFKLGRKLVKVFKWII    1.0\n",
       "8               KRIVQRIKKFLR    1.0\n",
       "9      GSKKPVPIIYCNRRTGKCQRM    1.0"
      ]
     },
     "execution_count": 125,
     "metadata": {},
     "output_type": "execute_result"
    }
   ],
   "source": [
    "df.head(10)"
   ]
  },
  {
   "cell_type": "code",
   "execution_count": 113,
   "metadata": {},
   "outputs": [
    {
     "name": "stdout",
     "output_type": "stream",
     "text": [
      "1147 1147\n"
     ]
    }
   ],
   "source": [
    "seqs = df['seq'].tolist()\n",
    "ys = df['label'].tolist()\n",
    "print(len(seqs), len(ys))"
   ]
  },
  {
   "cell_type": "code",
   "execution_count": 114,
   "metadata": {},
   "outputs": [
    {
     "data": {
      "text/plain": [
       "{('X', 1.0): 499,\n",
       " ('G', 1.0): 821,\n",
       " ('I', 1.0): 911,\n",
       " ('K', 1.0): 2002,\n",
       " ('W', 1.0): 775,\n",
       " ('V', 1.0): 686,\n",
       " ('A', 1.0): 818,\n",
       " ('D', 1.0): 78,\n",
       " ('L', 1.0): 1538,\n",
       " ('P', 1.0): 400,\n",
       " ('R', 1.0): 1621,\n",
       " ('Y', 1.0): 133,\n",
       " ('H', 1.0): 223,\n",
       " ('F', 1.0): 723,\n",
       " ('S', 1.0): 240,\n",
       " ('Q', 1.0): 151,\n",
       " ('N', 1.0): 189,\n",
       " ('C', 1.0): 53,\n",
       " ('T', 1.0): 205,\n",
       " ('M', 1.0): 85,\n",
       " ('E', 1.0): 51,\n",
       " ('G', 0.0): 615,\n",
       " ('W', 0.0): 204,\n",
       " ('A', 0.0): 514,\n",
       " ('N', 0.0): 157,\n",
       " ('T', 0.0): 128,\n",
       " ('L', 0.0): 887,\n",
       " ('K', 0.0): 954,\n",
       " ('V', 0.0): 331,\n",
       " ('C', 0.0): 31,\n",
       " ('I', 0.0): 596,\n",
       " ('X', 0.0): 293,\n",
       " ('S', 0.0): 264,\n",
       " ('M', 0.0): 103,\n",
       " ('E', 0.0): 104,\n",
       " ('Y', 0.0): 85,\n",
       " ('Q', 0.0): 98,\n",
       " ('R', 0.0): 542,\n",
       " ('H', 0.0): 161,\n",
       " ('F', 0.0): 355,\n",
       " ('P', 0.0): 329,\n",
       " ('D', 0.0): 142}"
      ]
     },
     "execution_count": 114,
     "metadata": {},
     "output_type": "execute_result"
    }
   ],
   "source": [
    "def process_seq(seq):\n",
    "    return [char for char in seq]\n",
    "\n",
    "# function to count occurence of each character in +/- seqs\n",
    "def update_count(result, seqs, ys):\n",
    "    \n",
    "    for y, seq in zip(ys, seqs):\n",
    "        \n",
    "        for char in process_seq(seq):\n",
    "        \n",
    "            pair = (char, y)\n",
    "        \n",
    "            if pair in result:\n",
    "                result[pair] += 1\n",
    "        \n",
    "            else:\n",
    "                result[pair] = 1\n",
    "    \n",
    "    return result\n",
    "\n",
    "freqs = update_count({}, seqs, ys)\n",
    "freqs"
   ]
  },
  {
   "cell_type": "code",
   "execution_count": 115,
   "metadata": {},
   "outputs": [],
   "source": [
    "def train_naive_bayes(freqs, train_x, train_y):\n",
    "    \n",
    "    loglikelihood = {}\n",
    "    logprior = 0\n",
    "    \n",
    "    vocab = set([pair[0] for pair in freqs.keys()])\n",
    "    V = len(vocab)\n",
    "    \n",
    "    N_pos = N_neg = 0\n",
    "    for pair in freqs.keys():\n",
    "        if pair[1] > 0:\n",
    "            N_pos += freqs[pair]\n",
    "        else:\n",
    "            N_neg += freqs[pair]\n",
    "    \n",
    "    D = len(train_y)\n",
    "    D_pos = np.sum(np.array(train_y))\n",
    "    D_neg = D - D_pos\n",
    "    \n",
    "    logprior = np.log(D_pos) - np.log(D_neg)\n",
    "    \n",
    "    for char in vocab:\n",
    "        freq_pos = freqs.get((char, 1.), 0)\n",
    "        freq_neg = freqs.get((char, 0.), 0)\n",
    "        \n",
    "        p_c_pos = (freq_pos + 1) / (N_pos + V)\n",
    "        p_c_neg = (freq_neg + 1) / (N_neg + V)\n",
    "        \n",
    "        loglikelihood[char] = np.log(p_c_pos) - np.log(p_c_neg)\n",
    "    \n",
    "    return logprior, loglikelihood"
   ]
  },
  {
   "cell_type": "code",
   "execution_count": 116,
   "metadata": {},
   "outputs": [],
   "source": [
    "logprior, loglikelihood = train_naive_bayes(freqs, seqs, ys)"
   ]
  },
  {
   "cell_type": "code",
   "execution_count": 118,
   "metadata": {},
   "outputs": [
    {
     "data": {
      "text/plain": [
       "{'H': -0.24572136467303718,\n",
       " 'C': -0.04652293753114556,\n",
       " 'E': -1.272487712871789,\n",
       " 'D': -1.163167859088579,\n",
       " 'N': -0.3853420421621738,\n",
       " 'F': 0.1400895802379929,\n",
       " 'Q': -0.14101041058400643,\n",
       " 'K': 0.17091891388939495,\n",
       " 'X': -0.03874275021218265,\n",
       " 'L': -0.01985469044898336,\n",
       " 'I': -0.1460482046139635,\n",
       " 'S': -0.6647039737912603,\n",
       " 'T': -0.10170731686778423,\n",
       " 'V': 0.1574282420101678,\n",
       " 'A': -0.1058538981063597,\n",
       " 'M': -0.7598146841835574,\n",
       " 'W': 0.7613714597491175,\n",
       " 'P': -0.37490230844964945,\n",
       " 'Y': -0.1262785775982893,\n",
       " 'G': -0.28127764977303293,\n",
       " 'R': 0.5245348334457298}"
      ]
     },
     "execution_count": 118,
     "metadata": {},
     "output_type": "execute_result"
    }
   ],
   "source": [
    "loglikelihood"
   ]
  },
  {
   "cell_type": "code",
   "execution_count": 119,
   "metadata": {},
   "outputs": [],
   "source": [
    "def naive_bayes_predict(seq, logprior, loglikelihood):\n",
    "    \n",
    "    char_list = process_seq(seq)\n",
    "    \n",
    "    p = 0\n",
    "    \n",
    "    p += logprior\n",
    "    \n",
    "    for char in char_list:\n",
    "        if char in loglikelihood:\n",
    "            p += loglikelihood[char]\n",
    "    \n",
    "    return p"
   ]
  },
  {
   "cell_type": "code",
   "execution_count": 120,
   "metadata": {},
   "outputs": [],
   "source": [
    "def test_naive_bayes(test_x, test_y, logprior, loglikelihood):\n",
    "    \n",
    "    accuracy = 0\n",
    "    \n",
    "    y_hats = []\n",
    "    \n",
    "    for seq in test_x:\n",
    "        if naive_bayes_predict(seq, logprior, loglikelihood) > 0:\n",
    "            y_hat_i = 1\n",
    "        else:\n",
    "            y_hat_i = 0\n",
    "        y_hats.append(y_hat_i)\n",
    "        \n",
    "    error = np.mean(np.array(test_y) != np.array(y_hats))\n",
    "    \n",
    "    accuracy = 1 - error\n",
    "    \n",
    "    return accuracy"
   ]
  },
  {
   "cell_type": "code",
   "execution_count": 121,
   "metadata": {},
   "outputs": [
    {
     "data": {
      "text/plain": [
       "0.6756756756756757"
      ]
     },
     "execution_count": 121,
     "metadata": {},
     "output_type": "execute_result"
    }
   ],
   "source": [
    "test_naive_bayes(seqs, ys, logprior, loglikelihood)"
   ]
  },
  {
   "cell_type": "code",
   "execution_count": null,
   "metadata": {},
   "outputs": [],
   "source": []
  }
 ],
 "metadata": {
  "kernelspec": {
   "display_name": "Python 3",
   "language": "python",
   "name": "python3"
  },
  "language_info": {
   "codemirror_mode": {
    "name": "ipython",
    "version": 3
   },
   "file_extension": ".py",
   "mimetype": "text/x-python",
   "name": "python",
   "nbconvert_exporter": "python",
   "pygments_lexer": "ipython3",
   "version": "3.7.3"
  }
 },
 "nbformat": 4,
 "nbformat_minor": 4
}
